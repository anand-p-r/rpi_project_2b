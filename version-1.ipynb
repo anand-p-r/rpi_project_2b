{
 "cells": [
  {
   "cell_type": "code",
   "execution_count": 68,
   "metadata": {
    "collapsed": true
   },
   "outputs": [],
   "source": [
    "import subprocess\n",
    "import os\n",
    "import time"
   ]
  },
  {
   "cell_type": "code",
   "execution_count": 69,
   "metadata": {
    "collapsed": true
   },
   "outputs": [],
   "source": [
    "default_webcam_usb_loc = \"/dev/video0\"\n",
    "default_image_dir      = \"/home/pi/project_2b_pics/\"\n",
    "output_file_prefix     = \"image_\"\n",
    "output_file_suffix     = \".jpg\"\n",
    "resolution             = \"640x480\" \n",
    "cmd_to_pic = \"fswebcam -d \" + default_webcam_usb_loc + \" -r \" + resolution + \" \""
   ]
  },
  {
   "cell_type": "code",
   "execution_count": 70,
   "metadata": {
    "collapsed": false
   },
   "outputs": [
    {
     "name": "stdout",
     "output_type": "stream",
     "text": [
      "USB Webcam found!\n"
     ]
    }
   ],
   "source": [
    "if (os.path.exists(default_webcam_usb_loc)):\n",
    "    print (\"USB Webcam found!\")\n",
    "else:\n",
    "    print (\"Webcam not connected\")"
   ]
  },
  {
   "cell_type": "code",
   "execution_count": 71,
   "metadata": {
    "collapsed": false
   },
   "outputs": [
    {
     "data": {
      "text/plain": [
       "'/home/pi/project_2b_pics/image_1538035953_8881295.jpg'"
      ]
     },
     "execution_count": 71,
     "metadata": {},
     "output_type": "execute_result"
    }
   ],
   "source": [
    "output_file_name = \"\".join([default_image_dir,\n",
    "                            output_file_prefix,\n",
    "                            str(time.time()).replace(\".\", \"_\"),\n",
    "                            output_file_suffix])\n",
    "output_file_name"
   ]
  },
  {
   "cell_type": "code",
   "execution_count": 72,
   "metadata": {
    "collapsed": false
   },
   "outputs": [
    {
     "name": "stdout",
     "output_type": "stream",
     "text": [
      "Success!\n"
     ]
    }
   ],
   "source": [
    "## Take the pic\n",
    "cmd = cmd_to_pic + output_file_name\n",
    "if (os.system(cmd) == 0):\n",
    "    print(\"Success!\")"
   ]
  },
  {
   "cell_type": "code",
   "execution_count": null,
   "metadata": {
    "collapsed": true
   },
   "outputs": [],
   "source": []
  }
 ],
 "metadata": {
  "kernelspec": {
   "display_name": "Python 3",
   "language": "python",
   "name": "python3"
  },
  "language_info": {
   "codemirror_mode": {
    "name": "ipython",
    "version": 3
   },
   "file_extension": ".py",
   "mimetype": "text/x-python",
   "name": "python",
   "nbconvert_exporter": "python",
   "pygments_lexer": "ipython3",
   "version": "3.5.3"
  }
 },
 "nbformat": 4,
 "nbformat_minor": 2
}
